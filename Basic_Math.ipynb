{
 "cells": [
  {
   "cell_type": "markdown",
   "id": "dc953e04-6ea0-4a67-8c9b-822471eb6b86",
   "metadata": {},
   "source": [
    "## Basic Math"
   ]
  },
  {
   "cell_type": "code",
   "execution_count": 50,
   "id": "4fca6c6b-9361-4d6a-a60c-07937cfd960f",
   "metadata": {},
   "outputs": [],
   "source": [
    "def numerical_differentiation(f, x, h=1e-5):\n",
    "    return (f(x + h) - f(x)) / h"
   ]
  },
  {
   "cell_type": "code",
   "execution_count": 55,
   "id": "92fa7c68-607a-406e-b038-5a3e02c237aa",
   "metadata": {},
   "outputs": [
    {
     "data": {
      "text/plain": [
       "5.000030000124056"
      ]
     },
     "execution_count": 55,
     "metadata": {},
     "output_type": "execute_result"
    }
   ],
   "source": [
    "# Example Usage\n",
    "def f(x):\n",
    "    return x**3 + 2*x - 5\n",
    "\n",
    "numerical_differentiation(f, 1)"
   ]
  },
  {
   "cell_type": "code",
   "execution_count": null,
   "id": "351abb5a-a68f-4379-80f4-3908f52c7254",
   "metadata": {},
   "outputs": [],
   "source": [
    "def factorial(n):\n",
    "    factorial = 1 \n",
    "    for i in range(n):\n",
    "        factorial *= i+1\n",
    "    return factorial"
   ]
  },
  {
   "cell_type": "code",
   "execution_count": 48,
   "id": "c89a23ee-8e51-4ebd-bdf5-7d88e01c7afe",
   "metadata": {},
   "outputs": [
    {
     "data": {
      "text/plain": [
       "24"
      ]
     },
     "execution_count": 48,
     "metadata": {},
     "output_type": "execute_result"
    }
   ],
   "source": [
    "# Example Usage\n",
    "\n",
    "factorial(4)"
   ]
  },
  {
   "cell_type": "code",
   "execution_count": 1,
   "id": "03ac9044-9a74-4704-a137-c2b61af6a0fe",
   "metadata": {},
   "outputs": [],
   "source": [
    "def root(x, n):\n",
    "    root = x**(1/n)\n",
    "    return root"
   ]
  },
  {
   "cell_type": "code",
   "execution_count": 4,
   "id": "e790d192-fa61-4b50-8128-5b3667e86ac2",
   "metadata": {},
   "outputs": [
    {
     "data": {
      "text/plain": [
       "1.3160740129524924"
      ]
     },
     "execution_count": 4,
     "metadata": {},
     "output_type": "execute_result"
    }
   ],
   "source": [
    "# Example Usage\n",
    "\n",
    "root(3,4)"
   ]
  },
  {
   "cell_type": "code",
   "execution_count": null,
   "id": "b5a605ac-c4ae-4653-8793-7c7193bf6e02",
   "metadata": {},
   "outputs": [],
   "source": [
    "def summation(term, initial_iteration, final_iteration):\n",
    "    final_sum = term"
   ]
  },
  {
   "cell_type": "code",
   "execution_count": null,
   "id": "0375f36e-d918-4b96-9936-11b119e61aa5",
   "metadata": {},
   "outputs": [],
   "source": [
    "def sin(x):\n",
    "    # Taylor series approximation for sin(x)\n",
    "    result = 0\n",
    "    term = x\n",
    "    n = 1\n",
    "    while abs(term) > 1e-15:\n",
    "        result += term\n",
    "        term *= -x * x / (2 * n * (2 * n + 1))\n",
    "        n += 1\n",
    "    return result\n",
    "\n",
    "def cos(x):\n",
    "    # Taylor series approximation for cos(x)\n",
    "    result = 0\n",
    "    term = 1\n",
    "    n = 0\n",
    "    while abs(term) > 1e-15:\n",
    "        result += term\n",
    "        term *= -x * x / (2 * n * (2 * n - 1)) if n > 0 else -x * x / 2\n",
    "        n += 1\n",
    "    return result\n",
    "\n",
    "def tan(x):\n",
    "    return sin(x) / cos(x) if cos(x) != 0 else 'undefined'\n",
    "\n",
    "def csc(x):\n",
    "    return 1 / sin(x) if sin(x) != 0 else 'undefined'\n",
    "\n",
    "def sec(x):\n",
    "    return 1 / cos(x) if cos(x) != 0 else 'undefined'\n",
    "\n",
    "def cot(x):\n",
    "    return 1 / tan(x) if tan(x) != 0 else 'undefined'"
   ]
  },
  {
   "cell_type": "code",
   "execution_count": 4,
   "id": "30076e1d-9ca1-4920-a882-5e1e170fbb12",
   "metadata": {},
   "outputs": [
    {
     "name": "stdout",
     "output_type": "stream",
     "text": [
      "0\n",
      "1\n",
      "0.0\n"
     ]
    }
   ],
   "source": [
    "# examples\n",
    "\n",
    "print(sin(0))\n",
    "print(cos(0))\n",
    "print(tan(0))"
   ]
  },
  {
   "cell_type": "code",
   "execution_count": null,
   "id": "aa086c33-9aa6-43d2-95e0-5c851b08e9e5",
   "metadata": {},
   "outputs": [],
   "source": [
    "def pi():\n",
    "    pi = 1/p\n",
    "    \n",
    "    # using Ramanujan's Approximation Formula for pi\n",
    "    "
   ]
  },
  {
   "cell_type": "code",
   "execution_count": null,
   "id": "56024365-6f2a-484c-b435-a05f362166ef",
   "metadata": {},
   "outputs": [],
   "source": []
  }
 ],
 "metadata": {
  "kernelspec": {
   "display_name": "Python 3 (ipykernel)",
   "language": "python",
   "name": "python3"
  },
  "language_info": {
   "codemirror_mode": {
    "name": "ipython",
    "version": 3
   },
   "file_extension": ".py",
   "mimetype": "text/x-python",
   "name": "python",
   "nbconvert_exporter": "python",
   "pygments_lexer": "ipython3",
   "version": "3.10.14"
  }
 },
 "nbformat": 4,
 "nbformat_minor": 5
}

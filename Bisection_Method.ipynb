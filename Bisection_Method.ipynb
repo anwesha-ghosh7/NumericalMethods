{
 "cells": [
  {
   "cell_type": "markdown",
   "id": "37cd6eb8-4e49-4c9a-ac7a-9dc60d4e5e85",
   "metadata": {},
   "source": [
    "## Bisection Method"
   ]
  },
  {
   "cell_type": "code",
   "execution_count": 5,
   "id": "0dc6a93b-ebd4-4b3f-9e98-968a5d5d0b54",
   "metadata": {},
   "outputs": [
    {
     "data": {
      "text/plain": [
       "1.414213562373095"
      ]
     },
     "execution_count": 5,
     "metadata": {},
     "output_type": "execute_result"
    }
   ],
   "source": [
    "# Importing Basic Math Operations and Functions from System\n",
    "\n",
    "\n",
    "def bisection_method(f_str, a, b):\n",
    "\n",
    "    def f(x):\n",
    "        f = eval(f_str)\n",
    "        return f\n",
    "        \n",
    "    fa = f(a)\n",
    "    fb = f(b)\n",
    "    if fa*fb > 0:\n",
    "        print(\"f(a) and f(b) must have different signs.\")\n",
    "        return None\n",
    "\n",
    "    \n",
    "    for _ in range(100):\n",
    "        c = (a + b)/2\n",
    "        fc = f(c)\n",
    "\n",
    "        if fc == 0:\n",
    "            break\n",
    "        if fa*fc > 0:\n",
    "            a, fa = c, fc\n",
    "        if fb*fc > 0:\n",
    "            b, fb = c, fc\n",
    "    return c\n",
    "    \n",
    "bisection_method(\"x**2 - 2\", 0, 10)"
   ]
  },
  {
   "cell_type": "code",
   "execution_count": null,
   "id": "49d5a16e-2fba-4a71-80ff-9a7a430b7e5e",
   "metadata": {},
   "outputs": [],
   "source": []
  },
  {
   "cell_type": "code",
   "execution_count": null,
   "id": "acca8c90-51e9-4f93-b999-22307a165b34",
   "metadata": {},
   "outputs": [],
   "source": [
    "M"
   ]
  }
 ],
 "metadata": {
  "kernelspec": {
   "display_name": "Python 3 (ipykernel)",
   "language": "python",
   "name": "python3"
  },
  "language_info": {
   "codemirror_mode": {
    "name": "ipython",
    "version": 3
   },
   "file_extension": ".py",
   "mimetype": "text/x-python",
   "name": "python",
   "nbconvert_exporter": "python",
   "pygments_lexer": "ipython3",
   "version": "3.10.14"
  }
 },
 "nbformat": 4,
 "nbformat_minor": 5
}

{
 "cells": [
  {
   "cell_type": "markdown",
   "id": "0be6f856-2686-437a-92ec-62232dc63268",
   "metadata": {},
   "source": [
    "## Secant Method"
   ]
  },
  {
   "cell_type": "code",
   "execution_count": 2,
   "id": "622a163b-1fc2-4a68-8d46-3405317968e6",
   "metadata": {},
   "outputs": [],
   "source": [
    "def secant_method(func_str, x0, x1, n): # enter function in form of string\n",
    "\n",
    "    def f(x):\n",
    "        f = eval(func_str)\n",
    "        return f\n",
    "\n",
    "    for intercept in range(1,n+1):\n",
    "        fx0 = f(x0)\n",
    "        fx1 = f(x1)\n",
    "\n",
    "        xi = x0 - (fx0/((fx0 - fx1)/(x0 - x1)))\n",
    "        x0 = x1\n",
    "        x1 = xi\n",
    "\n",
    "    print(f\"Root found at {xi} after {n} iterations.\") \n",
    "    "
   ]
  },
  {
   "cell_type": "code",
   "execution_count": 4,
   "id": "caae0e19-114a-4548-ba51-ed9e4b835404",
   "metadata": {},
   "outputs": [
    {
     "name": "stdout",
     "output_type": "stream",
     "text": [
      "Root found at 1.414213562373095 after 10 iterations.\n"
     ]
    }
   ],
   "source": [
    "secant_method(\"x**2 - 2\", 1, 4, 10)"
   ]
  },
  {
   "cell_type": "code",
   "execution_count": null,
   "id": "6116a8a7-b61a-4042-a5c9-32fa9be4526f",
   "metadata": {},
   "outputs": [],
   "source": []
  }
 ],
 "metadata": {
  "kernelspec": {
   "display_name": "Python 3 (ipykernel)",
   "language": "python",
   "name": "python3"
  },
  "language_info": {
   "codemirror_mode": {
    "name": "ipython",
    "version": 3
   },
   "file_extension": ".py",
   "mimetype": "text/x-python",
   "name": "python",
   "nbconvert_exporter": "python",
   "pygments_lexer": "ipython3",
   "version": "3.10.14"
  }
 },
 "nbformat": 4,
 "nbformat_minor": 5
}

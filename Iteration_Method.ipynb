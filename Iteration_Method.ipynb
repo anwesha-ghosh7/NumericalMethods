{
 "cells": [
  {
   "cell_type": "markdown",
   "id": "655b5e63-9db4-4ae7-becd-a5ebd8a5b1ba",
   "metadata": {},
   "source": [
    "## Fixed Point Iteration Method"
   ]
  },
  {
   "cell_type": "code",
   "execution_count": 4,
   "id": "6dfbc640-d22c-40e2-a7be-e93b98d0fce5",
   "metadata": {},
   "outputs": [],
   "source": [
    "# Fixed Point Iteration Method\n",
    "\n",
    "def f(x):\n",
    "    return x*x*x + x*x -1\n",
    "\n",
    "# Re-writing f(x)=0 to x = g(x)\n",
    "\n",
    "def g(x):\n",
    "    return 1/(1+x)**-(1/2)\n",
    "\n"
   ]
  },
  {
   "cell_type": "code",
   "execution_count": 6,
   "id": "73c0784c-c953-4cc8-a2b3-24f961c79e00",
   "metadata": {},
   "outputs": [
    {
     "name": "stdout",
     "output_type": "stream",
     "text": [
      "Iteration-1, x1 = 1.732051 and f(x1) = 7.196152\n",
      "Iteration-2, x1 = 1.652892 and f(x1) = 6.247835\n",
      "Iteration-3, x1 = 1.628770 and f(x1) = 5.973842\n",
      "Iteration-4, x1 = 1.621348 and f(x1) = 5.890921\n",
      "Iteration-5, x1 = 1.619058 and f(x1) = 5.865462\n",
      "Iteration-6, x1 = 1.618350 and f(x1) = 5.857611\n",
      "Iteration-7, x1 = 1.618132 and f(x1) = 5.855186\n",
      "Iteration-8, x1 = 1.618064 and f(x1) = 5.854437\n",
      "Iteration-9, x1 = 1.618043 and f(x1) = 5.854205\n",
      "Iteration-10, x1 = 1.618037 and f(x1) = 5.854134\n",
      "\n",
      "Not Convergent.\n"
     ]
    }
   ],
   "source": [
    "# Implementing Fixed Point Iteration Method\n",
    "def fixed_point_iteration(x_0, error_accept, maximum_step): \n",
    "    x_0 = float(x_0)\n",
    "    e = float(error_accept)\n",
    "    N = int(maximum_step)\n",
    "    step = 1\n",
    "    flag = 1\n",
    "    condition = True\n",
    "    while condition:\n",
    "        x_1 = g(x_0)\n",
    "        print('Iteration-%d, x1 = %0.6f and f(x1) = %0.6f' % (step, x_1, f(x_1)))\n",
    "        x_0 = x_1\n",
    "\n",
    "        step = step + 1\n",
    "        \n",
    "        if step > N:\n",
    "            flag = 0\n",
    "            break\n",
    "        \n",
    "        condition = abs(f(x_1)) > e\n",
    "\n",
    "    if flag==1:\n",
    "        print('\\nRequired root is: %0.8f' % x_1)\n",
    "    else:\n",
    "        print('\\nNot Convergent.')\n",
    "\n",
    "fixed_point_iteration(2, 0.000001, 10)"
   ]
  },
  {
   "cell_type": "code",
   "execution_count": null,
   "id": "41b92fac-7bd3-4aac-8c7f-b8e9eebed843",
   "metadata": {},
   "outputs": [],
   "source": []
  }
 ],
 "metadata": {
  "kernelspec": {
   "display_name": "Python 3 (ipykernel)",
   "language": "python",
   "name": "python3"
  },
  "language_info": {
   "codemirror_mode": {
    "name": "ipython",
    "version": 3
   },
   "file_extension": ".py",
   "mimetype": "text/x-python",
   "name": "python",
   "nbconvert_exporter": "python",
   "pygments_lexer": "ipython3",
   "version": "3.10.14"
  }
 },
 "nbformat": 4,
 "nbformat_minor": 5
}

{
 "cells": [
  {
   "cell_type": "markdown",
   "id": "d040589d-867d-4810-bf76-a726a179963a",
   "metadata": {},
   "source": [
    "## Netwon's Forward Interpolation"
   ]
  },
  {
   "cell_type": "code",
   "execution_count": 18,
   "id": "31cf934d-7df5-4faf-b186-d9ab62ef1cf2",
   "metadata": {},
   "outputs": [
    {
     "name": "stdin",
     "output_type": "stream",
     "text": [
      "Enter number of values given:  4\n"
     ]
    },
    {
     "name": "stdout",
     "output_type": "stream",
     "text": [
      "Enter the x values:\n"
     ]
    },
    {
     "name": "stdin",
     "output_type": "stream",
     "text": [
      "x[0]:  45\n",
      "x[1]:  50\n",
      "x[2]:  55\n",
      "x[3]:  60\n"
     ]
    },
    {
     "name": "stdout",
     "output_type": "stream",
     "text": [
      "Enter the y values:\n"
     ]
    },
    {
     "name": "stdin",
     "output_type": "stream",
     "text": [
      "y[0]:  0.778\n",
      "y[1]:  0.878\n",
      "y[2]:  0.87\n",
      "y[3]:  0.90\n"
     ]
    },
    {
     "name": "stdout",
     "output_type": "stream",
     "text": [
      "45.0\t0.7071\t0.05890000000000006\t-0.005700000000000038\t-0.0007000000000000339\t\n",
      "50.0\t0.766\t0.053200000000000025\t-0.006400000000000072\t\n",
      "55.0\t0.8192\t0.04679999999999995\t\n",
      "60.0\t0.866\t\n"
     ]
    },
    {
     "name": "stdin",
     "output_type": "stream",
     "text": [
      "value to interpolate at:  47\n"
     ]
    },
    {
     "name": "stdout",
     "output_type": "stream",
     "text": [
      "\n",
      "Value at 47.0 is 0.731299\n"
     ]
    }
   ],
   "source": [
    "def newton_forward_interpolation():\n",
    "\n",
    "    n = int(input(\"Enter number of values given: \"));\n",
    "    x = [];\n",
    "    print(\"Enter the x values:\")\n",
    "    for i in range(n):\n",
    "        x_val = float(input(f\"x[{i}]: \"))\n",
    "        x.append(x_val)\n",
    "        \n",
    "    def u_cal(u, n):\n",
    "    \n",
    "    \ttemp = u;\n",
    "    \tfor i in range(1, n):\n",
    "    \t\ttemp = temp * (u - i);\n",
    "    \treturn temp;\n",
    "    \n",
    "    # calculating factorial of given number n\n",
    "    def fact(n):\n",
    "    \tf = 1;\n",
    "    \tfor i in range(2, n + 1):\n",
    "    \t\tf *= i;\n",
    "    \treturn f;\n",
    "    \t\n",
    "    # y[][] is used for difference table\n",
    "    # with y[][0] used for input\n",
    "    print(\"Enter the y values:\")\n",
    "    for i in range(n):\n",
    "        y_val = float(input(f\"y[{i}]: \"))\n",
    "        y.append(y_val)\n",
    "    \n",
    "    # Calculating the forward difference table\n",
    "    for i in range(1, n):\n",
    "    \tfor j in range(n - i):\n",
    "    \t\ty[j][i] = y[j + 1][i - 1] - y[j][i - 1];\n",
    "    \n",
    "    # Displaying the forward difference table\n",
    "    for i in range(n):\n",
    "    \tprint(x[i], end = \"\\t\");\n",
    "    \tfor j in range(n - i):\n",
    "    \t\tprint(y[i][j], end = \"\\t\");\n",
    "    \tprint(\"\");\n",
    "    \n",
    "    # Value to interpolate at\n",
    "    value = float(input(\"value to interpolate at: \"));\n",
    "    \n",
    "\n",
    "    sum = y[0][0];\n",
    "    u = (value - x[0]) / (x[1] - x[0]);\n",
    "    for i in range(1,n):\n",
    "    \tsum = sum + (u_cal(u, i) * y[0][i]) / fact(i);\n",
    "    \n",
    "    print(\"\\nValue at\", value, \n",
    "    \t\"is\", round(sum, 6));\n",
    "\n",
    "newton_forward_interpolation()\n"
   ]
  },
  {
   "cell_type": "markdown",
   "id": "5295eb5b-0114-40ac-8905-e962975604d5",
   "metadata": {},
   "source": [
    "## Netwon's Backward Interpolation"
   ]
  },
  {
   "cell_type": "code",
   "execution_count": 23,
   "id": "7f7cdf55-ce33-4591-b128-6fb8a3086bd7",
   "metadata": {},
   "outputs": [],
   "source": [
    "\n",
    "def newton_backward_interpolation():\n",
    "    n = int(input(\"Enter number of values given: \"));\n",
    "    x = [];\n",
    "    print(\"Enter the x values:\")\n",
    "    for i in range(n):\n",
    "        x_val = float(input(f\"x[{i}]: \"))\n",
    "        x.append(x_val)\n",
    "        \n",
    "    def u_cal(u, n):\n",
    "    \ttemp = u\n",
    "    \tfor i in range(n):\n",
    "    \t\ttemp = temp * (u + i)\n",
    "    \treturn temp\n",
    "    \n",
    "    # Calculating factorial of given n\n",
    "    def fact(n):\n",
    "    \tf = 1\n",
    "    \tfor i in range(2, n + 1):\n",
    "    \t\tf *= i\n",
    "    \treturn f\n",
    "    \n",
    "\n",
    "    # y[][] is used for difference table\n",
    "    # with y[][0] used for input\n",
    "    print(\"Enter the y values:\")\n",
    "    for i in range(n):\n",
    "        y_val = int(input(f\"y[{i}]: \"))\n",
    "        y.append(y_val)\n",
    "    \n",
    "    # Calculating the backward  difference table\n",
    "    for i in range(1, n):\n",
    "    \tfor j in range(n - i):\n",
    "    \t\ty[j][i] = y[j + 1][i - 1] - y[j][i - 1];\n",
    "    \n",
    "    # Displaying the backward difference table\n",
    "    for i in range(n):\n",
    "    \tfor j in range(i + 1):\n",
    "    \t\tprint(y[i][j], end=\"\\t\")\n",
    "    \tprint()\n",
    "    \n",
    "    # Value to interpolate at\n",
    "    value = float(input(\"value to interpolate at: \"));\n",
    "    \n",
    "    \n",
    "    sum = y[n - 1][0]\n",
    "    u = (value - x[n - 1]) / (x[1] - x[0])\n",
    "    for i in range(1, n):\n",
    "    \tsum = sum + (u_cal(u, i) * y[n - 1][i]) / fact(i)\n",
    "    \n",
    "    print(\"\\n Value at\", value, \"is\", sum)\n"
   ]
  },
  {
   "cell_type": "code",
   "execution_count": 25,
   "id": "e08aa0ef-034e-4267-8a79-ff70b77ae801",
   "metadata": {},
   "outputs": [
    {
     "name": "stdin",
     "output_type": "stream",
     "text": [
      "Enter number of values given:  4\n"
     ]
    },
    {
     "name": "stdout",
     "output_type": "stream",
     "text": [
      "Enter the x values:\n"
     ]
    },
    {
     "name": "stdin",
     "output_type": "stream",
     "text": [
      "x[0]:  1001\n",
      "x[1]:  1002\n",
      "x[2]:  1004\n",
      "x[3]:  1500\n"
     ]
    },
    {
     "name": "stdout",
     "output_type": "stream",
     "text": [
      "Enter the y values:\n"
     ]
    },
    {
     "name": "stdin",
     "output_type": "stream",
     "text": [
      "y[0]:  76\n",
      "y[1]:  87\n",
      "y[2]:  98\n",
      "y[3]:  90\n"
     ]
    },
    {
     "name": "stdout",
     "output_type": "stream",
     "text": [
      "0.7071\t\n",
      "0.766\t0.053200000000000025\t\n",
      "0.8192\t0.04679999999999995\t0\t\n",
      "0.866\t0\t0\t0\t\n"
     ]
    },
    {
     "name": "stdin",
     "output_type": "stream",
     "text": [
      "value to interpolate at:  10003\n"
     ]
    },
    {
     "name": "stdout",
     "output_type": "stream",
     "text": [
      "\n",
      " Value at 10003.0 is 0.866\n"
     ]
    }
   ],
   "source": [
    "newton_backward_interpolation()"
   ]
  },
  {
   "cell_type": "code",
   "execution_count": null,
   "id": "8e8893a4-b9aa-4c5a-a8f5-200d321a130a",
   "metadata": {},
   "outputs": [],
   "source": []
  }
 ],
 "metadata": {
  "kernelspec": {
   "display_name": "Python 3 (ipykernel)",
   "language": "python",
   "name": "python3"
  },
  "language_info": {
   "codemirror_mode": {
    "name": "ipython",
    "version": 3
   },
   "file_extension": ".py",
   "mimetype": "text/x-python",
   "name": "python",
   "nbconvert_exporter": "python",
   "pygments_lexer": "ipython3",
   "version": "3.10.14"
  }
 },
 "nbformat": 4,
 "nbformat_minor": 5
}

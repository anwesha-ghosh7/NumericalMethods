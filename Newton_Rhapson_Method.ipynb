{
 "cells": [
  {
   "cell_type": "markdown",
   "id": "50dd6971-ca09-469b-88df-5e6f486e66a0",
   "metadata": {},
   "source": [
    "## Netwon-Rhapson Method"
   ]
  },
  {
   "cell_type": "code",
   "execution_count": 3,
   "id": "17d83b88-7ad9-46bd-9a0f-d3c77b30cf18",
   "metadata": {},
   "outputs": [
    {
     "name": "stdout",
     "output_type": "stream",
     "text": [
      "Root found at 1.4142135623746899 after 4 iterations.\n"
     ]
    }
   ],
   "source": [
    "def newton_rhapson_method(func_str, derivfunc, x, n): # inputs the function, derivative of the function, initial guess and number of iterations\n",
    "\n",
    "    def f(x):\n",
    "        f = eval(func_str) \n",
    "        return f\n",
    "\n",
    "    def df(x):\n",
    "        df = eval(derivfunc)\n",
    "        return df\n",
    "\n",
    "    for iteration in range(1, n+1):\n",
    "\n",
    "        i = x - (f(x)/df(x))\n",
    "        x = i\n",
    "\n",
    "    print(f\"Root found at {x} after {n} iterations.\")\n",
    "\n",
    "newton_rhapson_method(\"x**2 - 2\", \"2*x\", 1, 4)"
   ]
  },
  {
   "cell_type": "code",
   "execution_count": null,
   "id": "f001e181-be05-4a15-91b6-8b7f3fbd3478",
   "metadata": {},
   "outputs": [],
   "source": []
  },
  {
   "cell_type": "code",
   "execution_count": null,
   "id": "a6159168-21e1-4966-89b2-8c8f8fc2a400",
   "metadata": {},
   "outputs": [],
   "source": []
  }
 ],
 "metadata": {
  "kernelspec": {
   "display_name": "Python 3 (ipykernel)",
   "language": "python",
   "name": "python3"
  },
  "language_info": {
   "codemirror_mode": {
    "name": "ipython",
    "version": 3
   },
   "file_extension": ".py",
   "mimetype": "text/x-python",
   "name": "python",
   "nbconvert_exporter": "python",
   "pygments_lexer": "ipython3",
   "version": "3.10.14"
  }
 },
 "nbformat": 4,
 "nbformat_minor": 5
}

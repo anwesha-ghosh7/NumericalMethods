{
 "cells": [
  {
   "cell_type": "markdown",
   "id": "a917508f-39d9-47b9-a559-f6e82aef5711",
   "metadata": {},
   "source": [
    "## Regula-Falsi Method / False Position Method"
   ]
  },
  {
   "cell_type": "code",
   "execution_count": 1,
   "id": "cd6f9435-2d0e-42f8-a35a-39423eccc64f",
   "metadata": {},
   "outputs": [],
   "source": [
    "def false_position_method(func_str, a, b, error_accept): # input function as string, interval points [a,b] and user's acceptable level of error\n",
    "\n",
    "    def f(x):\n",
    "\n",
    "        f = eval(func_str) # evaluates function entered in form of string as an \"equation\"\n",
    "        return f\n",
    "\n",
    "    i = 0\n",
    "    c_before = 0\n",
    "    c = (a * f(b) - b * f(a)) / (f(b) - f(a)) # calculates secant line\n",
    "    error = abs(c - c_before)\n",
    "\n",
    "    while error > error_accept:\n",
    "        c_after = (a * f(b) - b * f(a)) / (f(b) - f(a))\n",
    "\n",
    "        if f(a) * f(b) >= 0:\n",
    "            print(\"Either no root present, or more than one root present. False Position method is invalid.\")\n",
    "            quit()\n",
    "\n",
    "        elif f(c_after) * f(a) < 0:\n",
    "            error = abs(c_after - b)\n",
    "            b = c_after\n",
    "            i = i + 1\n",
    "\n",
    "        elif f(c_after) * f(b) < 0:\n",
    "            error = abs(c_after - a)\n",
    "            a = c_after\n",
    "            i = i + 1\n",
    "\n",
    "        else:\n",
    "            print(\"Something went wrong.\")\n",
    "            quit()\n",
    "\n",
    "    print(f\"The error remaining is {error}, after {i} iterations\")\n",
    "    print(f\"The root can be approximately found at {c_after}.\")\n",
    "    print(f\"The lower root boundary, a, is {a} and the upper root boundary, b, is {b}\")"
   ]
  },
  {
   "cell_type": "code",
   "execution_count": 2,
   "id": "28e4e24a-2a12-488a-8cd1-65ff9d0d7e41",
   "metadata": {},
   "outputs": [
    {
     "name": "stdout",
     "output_type": "stream",
     "text": [
      "The error remaining is 0.28279293371156866, after 4 iterations\n",
      "The root can be approximately found at 2.298540965207632.\n",
      "The lower root boundary, a, is 2.298540965207632 and the upper root boundary, b, is 8\n"
     ]
    }
   ],
   "source": [
    "false_position_method(\"x**2 - 3*x\", 1, 8, 0.3)"
   ]
  },
  {
   "cell_type": "code",
   "execution_count": null,
   "id": "0d79e761-311d-4d34-9c05-78aee9490b10",
   "metadata": {},
   "outputs": [],
   "source": []
  }
 ],
 "metadata": {
  "kernelspec": {
   "display_name": "Python 3 (ipykernel)",
   "language": "python",
   "name": "python3"
  },
  "language_info": {
   "codemirror_mode": {
    "name": "ipython",
    "version": 3
   },
   "file_extension": ".py",
   "mimetype": "text/x-python",
   "name": "python",
   "nbconvert_exporter": "python",
   "pygments_lexer": "ipython3",
   "version": "3.10.14"
  }
 },
 "nbformat": 4,
 "nbformat_minor": 5
}

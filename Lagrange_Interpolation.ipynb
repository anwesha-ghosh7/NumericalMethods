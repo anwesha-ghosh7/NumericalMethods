{
 "cells": [
  {
   "cell_type": "markdown",
   "id": "e50f211a-0d85-4906-a29a-349807667352",
   "metadata": {},
   "source": [
    "## Lagrange Interpolation"
   ]
  },
  {
   "cell_type": "code",
   "execution_count": 5,
   "id": "c512821a-6532-4ceb-8c5f-d4a22bc6bfdf",
   "metadata": {},
   "outputs": [],
   "source": [
    "# Code for Lagrange Interpolation\n",
    "\n",
    "def lagrange_interpolation():\n",
    "    \n",
    "    # Reading number of data points\n",
    "    n = int(input('Enter number of data points: '))\n",
    "\n",
    "    # Initializing lists for storing x and y values\n",
    "    x = [0] * n\n",
    "    y = [0] * n\n",
    "\n",
    "    # Reading data points\n",
    "    print('Enter data for x and y: ')\n",
    "    for i in range(n):\n",
    "        x[i] = float(input('x[' + str(i) + ']='))\n",
    "        y[i] = float(input('y[' + str(i) + ']='))\n",
    "\n",
    "    # Reading interpolation point\n",
    "    xp = float(input('Enter interpolation point: '))\n",
    "\n",
    "    # Set interpolated value initially to zero\n",
    "    yp = 0\n",
    "\n",
    "# Implementing Lagrange Interpolation\n",
    "    for i in range(n):\n",
    "        p = 1\n",
    "        for j in range(n):\n",
    "            if i != j:\n",
    "                p *= (xp - x[j]) / (x[i] - x[j])\n",
    "        yp += p * y[i]\n",
    "\n",
    "# Displaying output\n",
    "    print('Interpolated value at %.3f is %.3f.' % (xp, yp))\n",
    "\n"
   ]
  },
  {
   "cell_type": "code",
   "execution_count": 6,
   "id": "88c11507-f656-49b6-9319-c2da6b3ae573",
   "metadata": {},
   "outputs": [
    {
     "name": "stdin",
     "output_type": "stream",
     "text": [
      "Enter number of data points:  4\n"
     ]
    },
    {
     "name": "stdout",
     "output_type": "stream",
     "text": [
      "Enter data for x and y: \n"
     ]
    },
    {
     "name": "stdin",
     "output_type": "stream",
     "text": [
      "x[0]= 1\n",
      "y[0]= 2\n",
      "x[1]= 3\n",
      "y[1]= 1\n",
      "x[2]= 2\n",
      "y[2]= 4\n",
      "x[3]= 0\n",
      "y[3]= 9\n",
      "Enter interpolation point:  7\n"
     ]
    },
    {
     "name": "stdout",
     "output_type": "stream",
     "text": [
      "Interpolated value at 7.000 is -341.000.\n"
     ]
    }
   ],
   "source": [
    "lagrange_interpolation()"
   ]
  },
  {
   "cell_type": "code",
   "execution_count": null,
   "id": "2315ac08-bcaa-42e9-9420-1ee3931a4302",
   "metadata": {},
   "outputs": [],
   "source": []
  }
 ],
 "metadata": {
  "kernelspec": {
   "display_name": "Python 3 (ipykernel)",
   "language": "python",
   "name": "python3"
  },
  "language_info": {
   "codemirror_mode": {
    "name": "ipython",
    "version": 3
   },
   "file_extension": ".py",
   "mimetype": "text/x-python",
   "name": "python",
   "nbconvert_exporter": "python",
   "pygments_lexer": "ipython3",
   "version": "3.10.14"
  }
 },
 "nbformat": 4,
 "nbformat_minor": 5
}
